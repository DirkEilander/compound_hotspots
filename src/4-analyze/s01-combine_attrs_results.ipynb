{
 "cells": [
  {
   "cell_type": "code",
   "execution_count": 1,
   "metadata": {
    "scrolled": true
   },
   "outputs": [],
   "source": [
    "import pandas as pd\n",
    "from datetime import datetime, timedelta\n",
    "import xarray as xr\n",
    "import numpy as np\n",
    "from os.path import join, isfile\n",
    "from copy import deepcopy"
   ]
  },
  {
   "cell_type": "code",
   "execution_count": 4,
   "metadata": {
    "scrolled": true
   },
   "outputs": [],
   "source": [
    "import sys\n",
    "import os\n",
    "sys.path.append(os.path.abspath('../3-postprocess/'))"
   ]
  },
  {
   "cell_type": "code",
   "execution_count": 5,
   "metadata": {},
   "outputs": [],
   "source": [
    "root = r'/scratch/compound_hotspots'\n",
    "ddir = join(root, 'data', '4-postprocessed')"
   ]
  },
  {
   "cell_type": "markdown",
   "metadata": {},
   "source": [
    "## atrs"
   ]
  },
  {
   "cell_type": "code",
   "execution_count": 7,
   "metadata": {},
   "outputs": [],
   "source": [
    "fn_rivmth_ts = join(ddir, 'rivmth_reanalysis.zarr')\n",
    "ds = xr.open_zarr(fn_rivmth_ts)"
   ]
  },
  {
   "cell_type": "code",
   "execution_count": 8,
   "metadata": {},
   "outputs": [],
   "source": [
    "fn_csv_coupling = join(root, 'src', '1-prepare', r'cmf_gtsm_75km_update191203.csv')\n",
    "ccols = ['dist', 'dist2coast', 'rivwth', 'uparea', 'rivhgt', 'elevtn', 'gtsm_egm_offset', \n",
    "         'elvp10', 'elvp90', 'elvavg', 'mean_drain_length', 'mean_drain_slope']\n",
    "coupling = pd.read_csv(fn_csv_coupling, index_col='index')[ccols]"
   ]
  },
  {
   "cell_type": "code",
   "execution_count": 10,
   "metadata": {},
   "outputs": [],
   "source": [
    "# combine data\n",
    "ds_drivers = ds.drop('WSE').mean('ensemble').sel(scen='surge').drop('scen')\n",
    "ds_drivers['Htiderange'] = (ds_drivers['Htide_day_max'] - ds_drivers['Htide_day_min'])\n",
    "ds_drivers_amax = ds_drivers[['Q', 'Hseas_day_mean', 'Hsurge_day_max', 'Hskewsurge_day', 'Htiderange']].resample(time='A').max().mean('time')\n",
    "ds_drivers_amax = ds_drivers_amax.rename({n: '{}_amax'.format(n.split('_')[0]) for n in ds_drivers_amax.data_vars.keys()})\n",
    "ds_drivers_amin = ds_drivers[['Q', 'Hseas_day_mean', 'Htiderange', 'Hskewsurge_day']].resample(time='A').min().mean('time')\n",
    "ds_drivers_amin = ds_drivers_amin.rename({n: '{}_amin'.format(n.split('_')[0]) for n in ds_drivers_amin.data_vars.keys()})\n",
    "ds_drivers_mean = ds_drivers[['Q', 'Htiderange']].mean('time')\n",
    "ds_drivers_mean = ds_drivers_mean.rename({n: '{}_mean'.format(n.split('_')[0]) for n in ds_drivers_mean.data_vars.keys()})\n",
    "\n",
    "da_wse = ds['WSE'].sel(scen='surge').drop('scen')\n",
    "da_wse_std = da_wse.std('time').reset_coords(drop=True).mean('ensemble')\n",
    "da_wse_std.name = 'wse_std'\n",
    "\n",
    "attrs = xr.merge([\n",
    "    coupling[ccols].to_xarray(),\n",
    "    ds_drivers_amax,\n",
    "    ds_drivers_amin,\n",
    "    ds_drivers_mean,\n",
    "    da_wse_std\n",
    "]).astype(np.float32).to_dataframe()"
   ]
  },
  {
   "cell_type": "code",
   "execution_count": null,
   "metadata": {},
   "outputs": [],
   "source": [
    "# add Q annual max properties\n",
    "da_Q = ds.sel(scen='msl')['Q']\n",
    "da_Q_am = da_Q.groupby('time.year').max('time')\n",
    "da_Q_am_avg = da_Q_am.mean('year')\n",
    "da_Q_am_std = da_Q_am.std('year')\n",
    "da_Q_am_cv = da_Q_am_std / da_Q_am_avg\n",
    "attrs['Q_amax'] = da_Q_am_avg.mean('ensemble')\n",
    "attrs['Q_amax_cv'] = da_Q_am_cv.mean('ensemble')\n",
    "\n",
    "# long term average Q\n",
    "attrs['Q_mean'] = da_Q.mean('time').mean('ensemble')\n",
    "\n",
    "# add Q and Hss annual max properties\n",
    "da_Hskewsurge = ds['Hskewsurge_day']\n",
    "da_Hskewsurge_am = da_Hskewsurge.groupby('time.year').max('time')\n",
    "attrs['Hskewsurge_amax'] = da_Hskewsurge_am.mean('year')\n",
    "attrs['Hskewsurge_amax_cv'] = da_Hskewsurge_am.std('year') / attrs['Hskewsurge_amax']"
   ]
  },
  {
   "cell_type": "code",
   "execution_count": null,
   "metadata": {},
   "outputs": [],
   "source": [
    "fn_attrs_out = join(ddir, 'rivmth_mean_attrs.nc')\n",
    "attrs_out  = attrs.drop(3354)  # outlier\n",
    "attrs_out.to_xarray().to_netcdf(fn_attrs_out)\n",
    "attrs_out.to_csv(fn_attrs_out.replace('.nc','.csv'))"
   ]
  }
 ],
 "metadata": {
  "kernelspec": {
   "display_name": "Python 3",
   "language": "python",
   "name": "python3"
  },
  "language_info": {
   "codemirror_mode": {
    "name": "ipython",
    "version": 3
   },
   "file_extension": ".py",
   "mimetype": "text/x-python",
   "name": "python",
   "nbconvert_exporter": "python",
   "pygments_lexer": "ipython3",
   "version": "3.7.6"
  }
 },
 "nbformat": 4,
 "nbformat_minor": 2
}
