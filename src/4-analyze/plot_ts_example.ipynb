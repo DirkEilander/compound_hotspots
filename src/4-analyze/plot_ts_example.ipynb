{
 "cells": [
  {
   "cell_type": "code",
   "execution_count": null,
   "metadata": {
    "scrolled": true
   },
   "outputs": [],
   "source": [
    "import pandas as pd\n",
    "from datetime import datetime, timedelta\n",
    "import xarray as xr\n",
    "import numpy as np\n",
    "from os.path import join, isfile\n",
    "from copy import deepcopy"
   ]
  },
  {
   "cell_type": "code",
   "execution_count": null,
   "metadata": {
    "scrolled": true
   },
   "outputs": [],
   "source": [
    "# load one local library with additional statistics for the xarray datastructure\n",
    "import xhydrostats as xs"
   ]
  },
  {
   "cell_type": "markdown",
   "metadata": {},
   "source": [
    "## plots"
   ]
  },
  {
   "cell_type": "code",
   "execution_count": null,
   "metadata": {},
   "outputs": [],
   "source": [
    "%matplotlib inline\n",
    "import matplotlib.pyplot as plt\n",
    "\n",
    "fig, ax = plt.subplots(1,1,figsize=(10,6))\n",
    "\n",
    "sel = dict(time=slice('01-01-1995', '09-01-1996'))\n",
    "sel = dict(time=slice('01-01-1991', '09-01-1991'))\n",
    "da_wl.isel(index=0, ensemble=1).sel(**sel).plot.line(x='time', ax=ax)\n",
    "xr.where(np.logical_and(peaks100, peaks.sum('scen')==2), peaks_val, np.nan).isel(index=0, ensemble=1).sel(**sel).to_series().plot(ax=ax, linewidth=0, markersize=10, marker='x')\n",
    "\n",
    "fig2, ax2 = plt.subplots(1,1,figsize=(10,6))\n",
    "# ds_cmf['river_discharge'].isel(index=0, ensemble=1).sel(**sel).plot.line(x='time', ax=ax2)\n",
    "ds_cmf['sea_surge'].isel(index=0).sel(**sel).plot.line(x='time', ax=ax2)\n",
    "# ds_cmf['sea_water_level_climatology'].isel(index=0).sel(**sel).plot.line(x='time', ax=ax2)"
   ]
  },
  {
   "cell_type": "code",
   "execution_count": null,
   "metadata": {},
   "outputs": [],
   "source": [
    "%matplotlib inline\n",
    "driver = 'compound'\n",
    "cfi_driver = cmpnd_stats[f'peaks_{driver}_perc']*100\n",
    "cfi_driver.to_series().unstack(-1).T.plot.box(whis=[0,95], showfliers=False)"
   ]
  },
  {
   "cell_type": "code",
   "execution_count": null,
   "metadata": {},
   "outputs": [],
   "source": [
    "driver = 'compound'\n",
    "cfi_driver = cmpnd_stats[f'cfi_{driver}']\n",
    "cfi_driver.to_series().unstack(-1).T.plot.box(whis=[0,95], showfliers=False)"
   ]
  },
  {
   "cell_type": "code",
   "execution_count": null,
   "metadata": {
    "scrolled": false
   },
   "outputs": [],
   "source": [
    "# test for single station\n",
    "%matplotlib inline\n",
    "import matplotlib.pyplot as plt\n",
    "q = 95\n",
    "min_dist = 30\n",
    "rid = 387\n",
    "# rid = 3200\n",
    "\n",
    "\n",
    "ds_i= ds_cmf.isel(index=rid).sel(ensemble='nerc').squeeze().load()\n",
    "\n",
    "# components\n",
    "da_cmpnd = ds_i['water_level'].sel(scen='cmpnd') \n",
    "da_surge = ds_i['water_level'].sel(scen='surge')\n",
    "da_runoff = ds_i['water_level'].sel(scen='runoff')\n",
    "da_surge_wdwmax = da_surge.rolling(time=7, min_periods=1, center=True).max()\n",
    "da_runoff_wdwmax = da_runoff.rolling(time=7, min_periods=1, center=True).max()\n",
    "da_cmpnd_std = da_cmpnd.std('time')\n",
    "cfi_surge = ((da_cmpnd - da_runoff_wdwmax) / da_cmpnd_std)\n",
    "cfi_runoff = ((da_cmpnd - da_surge_wdwmax) / da_cmpnd_std)\n",
    "cfi_runoff\n",
    "\n",
    "threshold = xs.nanpercentile(da_cmpnd, q=q, dim='time')\n",
    "ts = xs.peaks_over_threshold(da_cmpnd, min_dist=min_dist, threshold=threshold, dim='time') \n",
    "cfi_surge_peaks = cfi_surge.where(xr.ufuncs.isfinite(ts))\n",
    "cfi_runoff_peaks = cfi_runoff.where(xr.ufuncs.isfinite(ts))\n",
    "\n",
    "fig, ((ax1, ax2, ax3), (ax12, ax22, ax32)) = plt.subplots(2, 3, figsize=(15, 9), sharex=True)\n",
    "sel = dict(time=slice('07-01-2002', '07-01-2003'))\n",
    "ymax = max(ds_i['water_level'].sel(**sel).max().values, ds_i['sea_water_level'].sel(**sel).max().values)\n",
    "ymin = min(ds_i['water_level'].sel(**sel).min().values, ds_i['sea_water_level'].sel(**sel).min().values)\n",
    "ylim = [ymin, ymax]\n",
    "ylab = 'water surface elevation [m+EGM96]'\n",
    "\n",
    "# da_cmpnd.sel(**sel).plot(ax=ax2, c='red')\n",
    "ds_i['water_level'].sel(**sel, scen='surge').plot(ax=ax2, x='time', label='surge', c='blue')\n",
    "ds_i['water_level'].sel(**sel, scen='runoff').plot(ax=ax2, x='time', label='runoff', c='green')\n",
    "ds_i['water_level'].sel(**sel, scen='cmpnd').plot(ax=ax2, x='time', label='compound', c='red')\n",
    "cfi_surge.sel(**sel).plot(ax=ax22, c='blue', linestyle='--')\n",
    "cfi_runoff.sel(**sel).plot(ax=ax22, c='green', linestyle='--')\n",
    "ax2.set_title('river mouth')\n",
    "ax22.set_title('')\n",
    "ax2.set_ylabel(ylab)\n",
    "ax2.set_ylim(ylim)\n",
    "ax2.legend()\n",
    "\n",
    "\n",
    "ds_i['river_discharge'].sel(**sel).plot(ax=ax3, c='green')\n",
    "ds_i['river_discharge_climatology'].sel(**sel).plot(ax=ax3, c='green', linestyle='--')\n",
    "\n",
    "ax3.set_title('upstream boundary')\n",
    "ax3.set_ylabel('discharge [m3/s]')\n",
    "\n",
    "ds_i['sea_water_level_climatology'].sel(**sel).plot(ax=ax1, c='blue', linestyle='--')\n",
    "ds_i['sea_water_level'].sel(**sel).plot(ax=ax1, c='blue')\n",
    "ax1.set_title('downstream boundary')\n",
    "ax1.set_ylabel(ylab)\n",
    "ax1.set_ylim(ylim)\n",
    "\n",
    "# ds_i['sea_water_level_climatology'].sel(**sel).plot(ax=ax1, c='magenta', x='time')\n",
    "\n",
    "# if ts.sel(**sel).dropna('time').values.size>1: # needs two dates to plot\n",
    "#     ts.sel(**sel).dropna('time').plot(c='r', marker='*', markersize=9, linewidth=0, ax=ax)\n",
    "#     cfi_runoff_peaks.sel(**sel).dropna('time').plot(c='r', marker='*', markersize=9, linewidth=0, ax=ax2)\n",
    "\n",
    "\n",
    "# cfi_peaks.mean('time').compute().values, ds_i.to_series().unstack(0).tail(5)"
   ]
  },
  {
   "cell_type": "code",
   "execution_count": null,
   "metadata": {},
   "outputs": [],
   "source": []
  }
 ],
 "metadata": {
  "kernelspec": {
   "display_name": "Python 3",
   "language": "python",
   "name": "python3"
  },
  "language_info": {
   "codemirror_mode": {
    "name": "ipython",
    "version": 3
   },
   "file_extension": ".py",
   "mimetype": "text/x-python",
   "name": "python",
   "nbconvert_exporter": "python",
   "pygments_lexer": "ipython3",
   "version": "3.7.3"
  }
 },
 "nbformat": 4,
 "nbformat_minor": 2
}
