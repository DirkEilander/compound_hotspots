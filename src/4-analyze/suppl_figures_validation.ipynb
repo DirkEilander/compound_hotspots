{
 "cells": [
  {
   "cell_type": "code",
   "execution_count": null,
   "metadata": {
    "scrolled": true
   },
   "outputs": [],
   "source": [
    "import xarray as xr\n",
    "import pandas as pd\n",
    "import numpy as np\n",
    "from os.path import join, basename"
   ]
  },
  {
   "cell_type": "code",
   "execution_count": null,
   "metadata": {
    "scrolled": true
   },
   "outputs": [],
   "source": [
    "%matplotlib inline\n",
    "import matplotlib as mpl\n",
    "# mpl.rcParams.keys()\n",
    "import matplotlib.pyplot as plt\n",
    "import seaborn as sns\n",
    "rc = {'savefig.bbox': 'tight',  'savefig.format': 'png', 'savefig.dpi':300}\n",
    "context = 'paper'# 'talk'\n",
    "sns.set(context=context, style='whitegrid', font_scale=0.75 if context == 'talk' else 1., rc=rc)\n",
    "sns.set(context=context, style='whitegrid', font_scale=1.3 if context == 'paper' else 1., rc=rc)\n",
    "from string import ascii_uppercase as letters"
   ]
  },
  {
   "cell_type": "code",
   "execution_count": null,
   "metadata": {
    "scrolled": true
   },
   "outputs": [],
   "source": [
    "# import gis plotting packages\n",
    "from gistools import pandas2geopandas\n",
    "import gistools.plot_tools as gplt\n",
    "import cartopy.crs as ccrs\n",
    "from plot_tools import *"
   ]
  },
  {
   "cell_type": "code",
   "execution_count": null,
   "metadata": {
    "scrolled": true
   },
   "outputs": [],
   "source": [
    "ddir = r'/scratch/compound_hotspots/data/4-postprocessed'\n",
    "grdc_dir = r'/scratch/grdc'\n",
    "fig_dir = r'/scratch/compound_hotspots/reports/figures'\n",
    "fn_grdc = join(grdc_dir, r'grdc_discharge_1980-2014_v20180912.csv')\n",
    "\n",
    "# naming\n",
    "models_rename = {\n",
    "    \"anu\": \"W3RA (ANU)\", \n",
    "    \"nerc\": \"Jules (NERC)\", \n",
    "    \"cnrs\": \"Orchid. (CNRS)\", \n",
    "    \"ecmwf\": \"HTESS. (ECMWF)\",\n",
    "    \"jrc\": \"LISFL. (JRC)\", \n",
    "#     \"univk\": \"W.Gap3 (UNIVK)\", \n",
    "#     \"univu\": \"PCR-WB (UNIVU)\", \n",
    "    \"mean\": \"ensemble mean\"\n",
    "}\n",
    "model_seq = [v for k, v in models_rename.items()]"
   ]
  },
  {
   "cell_type": "markdown",
   "metadata": {},
   "source": [
    "## validation"
   ]
  },
  {
   "cell_type": "markdown",
   "metadata": {},
   "source": [
    "### select grdc data"
   ]
  },
  {
   "cell_type": "code",
   "execution_count": null,
   "metadata": {
    "scrolled": true
   },
   "outputs": [],
   "source": [
    "obs_name = 'grdc'\n",
    "fn_pm = join(ddir, r'cmf_v362_e2o_validation_grdc_pm_am.nc')\n",
    "pm_am = xr.open_dataset(fn_pm)\n",
    "pm_am_med = pm_am.mean('ensemble').expand_dims('ensemble')\n",
    "pm_am_med['ensemble'] = xr.Variable('ensemble', ['mean'])\n",
    "pm_am = xr.concat([pm_am, pm_am_med], 'ensemble')\n",
    "\n",
    "fn_pm = join(ddir, r'cmf_v362_e2o_validation_grdc_pm.nc')\n",
    "pm = xr.open_dataset(fn_pm)\n",
    "pm_med = pm.mean('ensemble').expand_dims('ensemble')\n",
    "pm_med['ensemble'] = xr.Variable('ensemble', ['mean'])\n",
    "pm = xr.concat([pm, pm_med], 'ensemble')"
   ]
  },
  {
   "cell_type": "code",
   "execution_count": null,
   "metadata": {
    "scrolled": true
   },
   "outputs": [],
   "source": [
    "# load meta data\n",
    "df_meta = pd.read_csv(fn_grdc, index_col=0).reindex(pm['grdc_id'])\n",
    "# select natural most downstream stations\n",
    "postfix='nat'\n",
    "df_meta = df_meta[np.logical_and.reduce((\n",
    "    df_meta['nathum_human'] == 0,\n",
    "    df_meta['ds_stat_no'] >= 0\n",
    "))]\n",
    "pm = pm.sel(grdc_id=df_meta.index)\n",
    "\n",
    "pm_am = pm_am.sel(grdc_id=df_meta.index)\n",
    "pm_am = pm_am.where(pm_am['doy_uniform_p']<0.05, drop=True)\n",
    "\n",
    "print(pm.grdc_id.size, pm_am['grdc_id'].size)"
   ]
  },
  {
   "cell_type": "code",
   "execution_count": null,
   "metadata": {
    "scrolled": true
   },
   "outputs": [],
   "source": [
    "model='mean'\n",
    "obs_name='grdc'\n",
    "# max_count1, max_count2 = 70, 35\n",
    "max_count1, max_count2 = 260, 120\n",
    "\n",
    "pm_sel = pm.sel(ensemble=model)\n",
    "pm_am_sel = pm_am.sel(ensemble=model)\n",
    "\n",
    "n1, n2 = pm_sel.grdc_id.size, pm_am_sel.grdc_id.size\n",
    "n1, n2"
   ]
  },
  {
   "cell_type": "markdown",
   "metadata": {},
   "source": [
    "## analysis"
   ]
  },
  {
   "cell_type": "code",
   "execution_count": null,
   "metadata": {
    "scrolled": true
   },
   "outputs": [],
   "source": [
    "snap_df = pd.read_csv(join(grdc_dir, r'20170124_GRDC_Stations_snap_2dist1e+04_1upa5.0e-01.csv'), index_col=0)\n",
    "snap_df = snap_df.reindex(df_meta.index)"
   ]
  },
  {
   "cell_type": "code",
   "execution_count": null,
   "metadata": {
    "scrolled": false
   },
   "outputs": [],
   "source": [
    "pm['kge'].to_series().unstack(0).rename(columns=models_rename)[model_seq].describe().loc[['25%', '50%', '75%'], :]"
   ]
  },
  {
   "cell_type": "code",
   "execution_count": null,
   "metadata": {},
   "outputs": [],
   "source": [
    "pm['kge_bias'].to_series().unstack(0).rename(columns=models_rename)[model_seq].describe().loc[['25%', '50%', '75%'], :]"
   ]
  },
  {
   "cell_type": "code",
   "execution_count": null,
   "metadata": {},
   "outputs": [],
   "source": [
    "(1-pm['kge_bias']).to_series().apply(np.abs).unstack(0).rename(columns=models_rename)[model_seq].describe().loc[['25%', '50%', '75%'], :]"
   ]
  },
  {
   "cell_type": "code",
   "execution_count": null,
   "metadata": {
    "scrolled": true
   },
   "outputs": [],
   "source": [
    "pm['kge_pearson_coef'].to_series().unstack(0).rename(columns=models_rename)[model_seq].describe().loc[['25%', '50%', '75%'], :]"
   ]
  },
  {
   "cell_type": "code",
   "execution_count": null,
   "metadata": {
    "scrolled": true
   },
   "outputs": [],
   "source": [
    "pm['lag'].to_series().unstack(0).rename(columns=models_rename)[model_seq].describe().loc[['25%', '50%', '75%'], :]"
   ]
  },
  {
   "cell_type": "code",
   "execution_count": null,
   "metadata": {},
   "outputs": [],
   "source": [
    "pm_am['am_bias'].to_series().unstack(0).rename(columns=models_rename)[model_seq].describe().loc[['25%', '50%', '75%'], :]"
   ]
  },
  {
   "cell_type": "code",
   "execution_count": null,
   "metadata": {
    "scrolled": true
   },
   "outputs": [],
   "source": [
    "pm_am['am_rank_corr'].to_series().unstack(0).rename(columns=models_rename)[model_seq].describe().loc[['25%', '50%', '75%'], :]"
   ]
  },
  {
   "cell_type": "code",
   "execution_count": null,
   "metadata": {
    "scrolled": true
   },
   "outputs": [],
   "source": [
    "pm_am['am_doy_diff'].to_series().unstack(0).apply(np.abs).rename(columns=models_rename)[model_seq].describe().loc[['25%', '50%', '75%'], :]"
   ]
  },
  {
   "cell_type": "markdown",
   "metadata": {},
   "source": [
    "### Figure validation 1 - multi model ensemble boxplots"
   ]
  },
  {
   "cell_type": "code",
   "execution_count": null,
   "metadata": {
    "scrolled": false
   },
   "outputs": [],
   "source": [
    "box_kwargs=dict(whis=[5,95], boxprops=dict(linewidth=1.), medianprops=dict(linewidth=1.5), \n",
    "                showfliers=False, flierprops=dict(markersize=2))\n",
    "fig, ((ax1, ax3, ax4), (ax11, ax12, ax13)) = plt.subplots(2,3, figsize=(15, 10), sharey=True, \n",
    "                                                          gridspec_kw=dict(wspace=0.15, hspace=0.3))\n",
    "\n",
    "data = pm['kge_bias'].to_series().unstack(0).rename(columns=models_rename)[model_seq]\n",
    "sns.boxplot(data=data, ax=ax1, orient=\"h\", **box_kwargs)\n",
    "ax1.set_xlim(-0.1, 3.1)\n",
    "ax1.set_xlabel('bias [-]')\n",
    "ax1.set_title(f'{letters[0]}. Bias')\n",
    "ax1.set_ylabel('models - daily', fontsize=14)\n",
    "    \n",
    "data = pm['kge_pearson_coef'].to_series().unstack(0).rename(columns=models_rename)[model_seq]\n",
    "sns.boxplot(data=data, ax=ax3, orient=\"h\", **box_kwargs)\n",
    "ax3.set_xlim(-0.05, 1.0)\n",
    "ax3.set_xlabel('pearson rho [-]')\n",
    "ax3.set_ylabel('')\n",
    "ax3.set_title(f'{letters[1]}. Correlation')\n",
    "   \n",
    "data = pm['lag'].to_series().unstack(0).rename(columns=models_rename)[model_seq]\n",
    "sns.boxplot(data=data, ax=ax4, orient=\"h\", **box_kwargs)\n",
    "ax4.set_xlim(-10, 10)\n",
    "ax4.set_xlabel('lag [days]')\n",
    "ax4.set_ylabel('')\n",
    "ax4.set_title(f'{letters[2]}. Time lag (cross correlation)')\n",
    "   \n",
    "data = pm_am['am_bias'].to_series().unstack(0).rename(columns=models_rename)[model_seq]\n",
    "sns.boxplot(data=data, ax=ax11, orient=\"h\", **box_kwargs)\n",
    "ax11.set_xlim(-0.1, 3.1)\n",
    "ax11.set_xlabel('bias [-]')\n",
    "ax11.set_title(f'{letters[3]}. AM bias')\n",
    "ax11.set_ylabel('models - annual maxima', fontsize=14)\n",
    "\n",
    "data = pm_am['am_rank_corr'].to_series().unstack(0).rename(columns=models_rename)[model_seq]\n",
    "sns.boxplot(data=data, ax=ax12, orient=\"h\", **box_kwargs)\n",
    "ax12.set_xlim(-0.1, 1.0)\n",
    "ax12.set_xlabel('spearman rho [-]')\n",
    "ax12.set_ylabel('')\n",
    "ax12.set_title(f'{letters[4]}. AM rank correlation')\n",
    "    \n",
    "data = pm_am['am_doy_diff'].to_series().unstack().T.rename(columns=models_rename)[model_seq]\n",
    "sns.boxplot(data=data, ax=ax13, orient=\"h\", **box_kwargs)\n",
    "ax13.set_xlim(-60, 60)\n",
    "ax13.set_xlabel('lag [days]')\n",
    "ax13.set_ylabel('')\n",
    "ax13.set_title(f'{letters[5]}. AM Time lag (mean flood day)')\n",
    "\n",
    "fn = join(fig_dir, '{}_{}_validation_{}').format(context, obs_name, postfix)\n",
    "plt.savefig(fn)"
   ]
  },
  {
   "cell_type": "markdown",
   "metadata": {},
   "source": [
    "## figure 2 - map"
   ]
  },
  {
   "cell_type": "code",
   "execution_count": null,
   "metadata": {
    "scrolled": false
   },
   "outputs": [],
   "source": [
    "import cartopy.crs as ccrs\n",
    "import cartopy.feature as cfeature\n",
    "cl = cfeature.COLORS['land_alt1']\n",
    "crs = ccrs.PlateCarree()\n",
    "cmap = plt.cm.viridis_r\n",
    "vmin, vmax, n =0, 1, 11\n",
    "cticks=np.linspace(vmin, vmax, n)\n",
    "\n",
    "# \n",
    "column = 'kge'\n",
    "if obs_name == 'grdc':\n",
    "    model='mean'\n",
    "    var = pm[column].sel(ensemble=model).to_series().sort_values()\n",
    "else:\n",
    "    var = pm_sel[column].to_series().sort_values()\n",
    "\n",
    "    \n",
    "    \n",
    "gdf = pandas2geopandas(df_meta)#.to_crs(crs.proj4_init)\n",
    "gdf = gdf.reindex(var.index)\n",
    "gdf[column] = var\n",
    "\n",
    "\n",
    "fig = plt.figure(figsize=(15, 10))\n",
    "axg = fig.add_subplot(projection=crs)\n",
    "basemap(axg, bbox=(-180, -60, 180, 90), gridlines=False, outline=False,)\n",
    "plot_choropleth(\n",
    "    fig, axg, gdf, column=column, \n",
    "    cmap=cmap,  cticks=cticks, vmin=vmin, vmax=vmax, discrete=False,\n",
    "    cbar_kwargs=dict(label=f'{models_rename[model]} {column.upper()} [-]', location='right'), \n",
    "    cbar_pos = dict(pad=0.02, fraction=0.01, shrink=0.6),\n",
    "    plot_kwargs=dict(markersize=30, edgecolor=(0.5, 0.5, 0.5, 0.5), linewidth=0.5, zorder=2,\n",
    "#                     label='selected {} gauges (n = {:d})'.format(obs_name, len(gdf))\n",
    "                    )\n",
    "    )\n",
    "# gdf.plot(ax=ax, zorder=3, markersize=10, color='green', \n",
    "#          label='selected {} gauges (n = {:d})'.format(obs_name, len(dfg)), )\n",
    "\n",
    "# ax.legend(loc='lower center')\n",
    "xlim, ylim = ax.get_xlim(), ax.get_ylim()\n",
    "print(xlim, ylim)\n",
    "ax.set_xlim([-max(xlim), max(xlim)]) \n",
    "ax.set_ylim([-max(ylim), max(ylim)])\n",
    "fn = join(fig_dir, f'{context}_{obs_name}_validation_{column}_{model}_{postfix}')\n",
    "print(basename(fn))\n",
    "plt.savefig(fn)"
   ]
  }
 ],
 "metadata": {
  "kernelspec": {
   "display_name": "Python 3",
   "language": "python",
   "name": "python3"
  },
  "language_info": {
   "codemirror_mode": {
    "name": "ipython",
    "version": 3
   },
   "file_extension": ".py",
   "mimetype": "text/x-python",
   "name": "python",
   "nbconvert_exporter": "python",
   "pygments_lexer": "ipython3",
   "version": "3.7.6"
  }
 },
 "nbformat": 4,
 "nbformat_minor": 2
}
