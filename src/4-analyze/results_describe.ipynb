{
 "cells": [
  {
   "cell_type": "code",
   "execution_count": null,
   "metadata": {},
   "outputs": [],
   "source": [
    "import pandas as pd\n",
    "from datetime import datetime, timedelta\n",
    "import xarray as xr\n",
    "import numpy as np\n",
    "from os.path import join, isfile\n",
    "from copy import deepcopy"
   ]
  },
  {
   "cell_type": "code",
   "execution_count": null,
   "metadata": {},
   "outputs": [],
   "source": [
    "import matplotlib.pyplot as plt\n",
    "from mpl_toolkits.axes_grid1 import make_axes_locatable\n",
    "from plot_tools import *\n",
    "import seaborn as sns\n",
    "from string import ascii_uppercase as letters"
   ]
  },
  {
   "cell_type": "code",
   "execution_count": null,
   "metadata": {},
   "outputs": [],
   "source": [
    "root = r'/scratch/compound_hotspots'\n",
    "ddir = join(root, 'data', '4-postprocessed')\n",
    "fdir = join(root, 'reports', 'figures')"
   ]
  },
  {
   "cell_type": "code",
   "execution_count": null,
   "metadata": {},
   "outputs": [],
   "source": [
    "q = 95\n",
    "min_dist = 30\n",
    "Npeaks = 50\n",
    "rp=2"
   ]
  },
  {
   "cell_type": "code",
   "execution_count": null,
   "metadata": {},
   "outputs": [],
   "source": [
    "attrs_fn = join(ddir, 'rivmth_mean_attrs.csv')\n",
    "attrs = pd.read_csv(attrs_fn, index_col='index').rename(columns={'rivmth_lat':'lat', 'rivmth_lon':'lon'})\n",
    "np.unique(attrs['gtsm_station_id']).size"
   ]
  },
  {
   "cell_type": "code",
   "execution_count": null,
   "metadata": {},
   "outputs": [],
   "source": [
    "attrs_fn = join(ddir, 'rivmth_mean_attrs.csv')\n",
    "attrs = pd.read_csv(attrs_fn, index_col='index').rename(columns={'rivmth_lat':'lat', 'rivmth_lon':'lon'})\n",
    "dropcols = ['gtsm_lat','gtsm_lon', 'gtsm_station_id', 'lat', 'lon', 'rivmth_idx', 'dist2coast',\n",
    "            'Qmsl_amax', 'Qmsl_amin', 'Qmsl_mean', 'Q_amin', 'Htiderange_amin', 'Htiderange_amax', 'Hsurge_amax']\n",
    "attrs = attrs.drop(columns=dropcols)\n",
    "attrs = attrs.reindex(sorted(attrs.columns), axis=1)\n",
    "for col in attrs.columns:\n",
    "    if col.startswith('Q') or col in ['uparea']:\n",
    "        attrs[col] = np.log10(attrs[col])"
   ]
  },
  {
   "cell_type": "code",
   "execution_count": null,
   "metadata": {},
   "outputs": [],
   "source": [
    "dim='ensemble'\n",
    "fn_peaks_ratio = join(ddir, f'rivmth_peaks_q{q}d{min_dist}_rp_ratio2.nc')\n",
    "ds_rp = xr.open_dataset(fn_peaks_ratio).sel(rp=rp)\n",
    "N = ds_rp[dim].size\n",
    "ds_rp_mean = ds_rp.mean(dim)\n",
    "ds_rp_dir =  xr.ufuncs.fabs(xr.ufuncs.sign(ds_rp).sum(dim)) == N\n",
    "ds_rp_sign = xr.ufuncs.fabs(ds_rp_mean / ds_rp.std(dim)) > (2 / xr.ufuncs.sqrt(N-1))\n",
    "df_rp_sign = np.logical_and(ds_rp_sign, ds_rp_dir).reset_coords(drop=True).to_dataframe()\n",
    "df_rp = ds_rp.mean('ensemble').reset_coords(drop=True).to_dataframe()\n",
    "df_rp = df_rp.where(df_rp_sign)"
   ]
  },
  {
   "cell_type": "code",
   "execution_count": null,
   "metadata": {},
   "outputs": [],
   "source": [
    "fn_peaks_freq = join(ddir, f'rivmth_peaks_q{q}d{min_dist}_top50_all_freq.nc')\n",
    "ds_freq = xr.open_dataset(fn_peaks_freq)\n",
    "da_lst = []\n",
    "for scen in ds_freq.scen.values:\n",
    "    da = ds_freq['peak_perc'].sel(scen=scen).drop('scen')\n",
    "    da.name = f'peak_perc_{scen}'\n",
    "    da_lst.append(da)\n",
    "df_freq = xr.merge(da_lst).mean('ensemble').reset_coords(drop=True).to_dataframe()"
   ]
  },
  {
   "cell_type": "code",
   "execution_count": null,
   "metadata": {},
   "outputs": [],
   "source": [
    "df0 = pd.concat([\n",
    "    attrs,\n",
    "    df_rp,\n",
    "    df_freq\n",
    "], axis=1)\n",
    "\n",
    "predictants_dict = {\n",
    "    'peak_perc_surge': 'Hsurge (perc)',\n",
    "#     'diff_surge_seas': 'Hsurge (diff Hseas)',\n",
    "    'ratio_surge_seas': 'Hsurge (ratio Hseas)',\n",
    "#     'diff_surge_tide': 'Hsurge (diff Htide)',\n",
    "    'ratio_surge_tide': 'Hsurge (ratio Htide)',\n",
    "    'peak_perc_seas': 'Hseas (perc)',\n",
    "#     'diff_seas_tide': 'Hseas (diff Htide)',\n",
    "    'ratio_seas_tide': 'Hseas (ratio Htide)',\n",
    "    'peak_perc_tide': 'Htide (perc)'\n",
    "}\n",
    "predictants = list(predictants_dict.keys())\n",
    "predictors = attrs.columns.values.tolist()\n"
   ]
  },
  {
   "cell_type": "code",
   "execution_count": null,
   "metadata": {},
   "outputs": [],
   "source": [
    "from scipy.stats import pearsonr, zscore\n",
    "import pandas as pd\n",
    "def nanzscore(x):\n",
    "    z = np.ones_like(x)\n",
    "    valid = np.isnan(x)==False\n",
    "    z[valid] = zscore(x[valid])\n",
    "    return z \n",
    "\n",
    "def calculate_pvalues(df):\n",
    "    df = df.dropna()._get_numeric_data()\n",
    "    dfcols = pd.DataFrame(columns=df.columns)\n",
    "    pvalues = dfcols.transpose().join(dfcols, how='outer')\n",
    "    for r in df.columns:\n",
    "        for c in df.columns:\n",
    "            pvalues[r][c] = pearsonr(df[r], df[c])[1]\n",
    "    return pvalues"
   ]
  },
  {
   "cell_type": "code",
   "execution_count": null,
   "metadata": {},
   "outputs": [],
   "source": [
    "corr.values.min(), corr.values.max()"
   ]
  },
  {
   "cell_type": "code",
   "execution_count": null,
   "metadata": {},
   "outputs": [],
   "source": [
    "# Compute the correlation matrix\n",
    "alpha=0.05\n",
    "corr = df0.copy().corr()\n",
    "pval = calculate_pvalues(df0.copy())\n",
    "# sign = (calculate_pvalues(df)<alpha).astype(int)\n",
    "df_ = pd.DataFrame(index=corr.index, columns=corr.columns)\n",
    "sign = df_.fillna('x').where(pval<alpha, '')\n",
    "pval = pval.loc[predictants, predictors].rename(predictants_dict)\n",
    "corr = corr.loc[predictants, predictors].rename(predictants_dict)\n",
    "sign = sign.loc[predictants, predictors].rename(predictants_dict)\n",
    "\n",
    "# Set up the matplotlib figure\n",
    "f, ax = plt.subplots(figsize=(len(predictors)*1.5, len(predictants)*1.5))\n",
    "\n",
    "# Generate a custom diverging colormap\n",
    "cmap = sns.diverging_palette(220, 10, as_cmap=True)\n",
    "\n",
    "# Draw the heatmap with the mask and correct aspect ratio\n",
    "vmax=0.6\n",
    "vmin=-0.6\n",
    "norm=BoundaryNorm(np.linspace(vmin, vmax, 21), cmap.N)\n",
    "ax = sns.heatmap(corr, annot=sign, fmt='s', cmap=cmap, vmin=vmin, vmax=vmax, norm=norm, center=0,\n",
    "            square=True, linewidths=.5, cbar_kws={'label': 'pearson rho [-]', \"shrink\": .8})\n",
    "ax.set_ylim([0, len(predictants)])\n",
    "f.tight_layout()\n",
    "fn = join(fdir, 'attrs_corr_heatmap.png')\n",
    "plt.savefig(fn, dpi=300)"
   ]
  },
  {
   "cell_type": "code",
   "execution_count": null,
   "metadata": {},
   "outputs": [],
   "source": [
    "# f, ax = plt.subplots(figsize=(11, 5))\n",
    "df_z = df0.apply(nanzscore, axis=0)\n",
    "df = df0.where(df_z.abs()<=4)\n",
    "g = sns.pairplot(df, x_vars=predictors, y_vars=predictants[::-1], plot_kws=dict(facecolor='grey', edgecolor=None))\n",
    "fn = join(fdir, 'attrs_pair_scatter.png')\n",
    "plt.savefig(fn, transparent=True, dpi=225)"
   ]
  },
  {
   "cell_type": "code",
   "execution_count": null,
   "metadata": {},
   "outputs": [],
   "source": []
  }
 ],
 "metadata": {
  "kernelspec": {
   "display_name": "Python 3",
   "language": "python",
   "name": "python3"
  },
  "language_info": {
   "codemirror_mode": {
    "name": "ipython",
    "version": 3
   },
   "file_extension": ".py",
   "mimetype": "text/x-python",
   "name": "python",
   "nbconvert_exporter": "python",
   "pygments_lexer": "ipython3",
   "version": "3.7.3"
  }
 },
 "nbformat": 4,
 "nbformat_minor": 2
}
