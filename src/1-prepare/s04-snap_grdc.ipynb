{
 "cells": [
  {
   "cell_type": "markdown",
   "metadata": {},
   "source": [
    "## methods"
   ]
  },
  {
   "cell_type": "markdown",
   "metadata": {},
   "source": [
    "The stations are \"snapped\" to the cell with the best fit to upstream area and distance with a maximum distance of 10km and maximum relative error in upstream area (compared to the GRDC reported upstream area) of 50%. \n",
    "\n",
    "The best fit was found by minimizing the weighted average of the combined relative distance error (RD; 0 at original location to 1 at max distance) and relative upstream area error (RA; 0 at reported upstream area to 1 at maximum relative upstream area error) according to \n",
    "\n",
    "$R = \\frac{a * RD + b * RA}{a + b}$\n",
    "\n",
    "The procedure is similar as reported by Do et al. 2017 (GSIM database) and  Lehner 2012 (GRDC report number 41). \n",
    "\n",
    "In addition, for cases where no pixels are found that match the relative upstream area error criterion (~3% of the stations), a pixel between the 99.5-100 percentile upstream area was selected, resulting in relative upstream area errors larger than 1. "
   ]
  },
  {
   "cell_type": "code",
   "execution_count": null,
   "metadata": {},
   "outputs": [],
   "source": [
    "import numpy as np\n",
    "from cmftools import snap_stations, cmf_index\n",
    "import gistools\n",
    "from os.path import join, basename\n",
    "import json\n",
    "import geopandas as gp\n",
    "import pandas as pd\n",
    "%matplotlib inline"
   ]
  },
  {
   "cell_type": "code",
   "execution_count": null,
   "metadata": {},
   "outputs": [],
   "source": [
    "# grdc data\n",
    "fn_grdc_meta = r'/home/dirk/datasets/GRDC/20170124_GRDC_Stations_meta.csv'\n",
    "#snap settings\n",
    "max_dist=10e3\n",
    "upa_relerr=0.5\n",
    "upa_weigth=1\n",
    "dist_weight=2\n",
    "kwargs = dict(max_dist=max_dist, upa_relerr=upa_relerr, upa_weigth=upa_weigth, dist_weight=dist_weight, local_upa_perc=99.5)"
   ]
  },
  {
   "cell_type": "code",
   "execution_count": null,
   "metadata": {},
   "outputs": [],
   "source": [
    "# maps old v361\n",
    "# map_dir = r'/home/dirk/Models/CaMa-Flood_v3.6.2_20140909/map/global_15min/'\n",
    "# uparea_fn = r'/home/dirk/Datasets/sheds_0.005_140807/upa.vrt'\n",
    "# fn_lonlat = join(map_dir, r'lonlat.tif')\n",
    "# fn_catmxy = join(map_dir, r'hires', r'catmxy.vrt')\n",
    "# out_fn = join(map_dir, basename(fn_grdc_meta).replace('.csv', '_snap.csv'))\n"
   ]
  },
  {
   "cell_type": "code",
   "execution_count": null,
   "metadata": {},
   "outputs": [],
   "source": [
    "# maps new v391\n",
    "map_dir = r'/home/dirk/models/CaMa_v392_20180727/map/glb_0.25d/'\n",
    "uparea_fn = join(map_dir, '15sec', 'uparea.vrt')\n",
    "fn_lonlat = join(map_dir, r'lonlat.tif')\n",
    "fn_catmxy = join(map_dir, r'15sec', r'catmxy.vrt')\n",
    "out_fn = join(map_dir, basename(fn_grdc_meta).replace('.csv', '_{}_snap_{:d}dist{:.0e}_{:d}upa{:.1e}.csv'))\n",
    "out_fn = out_fn.format('v392', dist_weight, max_dist, upa_weigth, upa_relerr)\n",
    "print(out_fn)"
   ]
  },
  {
   "cell_type": "markdown",
   "metadata": {},
   "source": [
    "### 1) load GRDC data"
   ]
  },
  {
   "cell_type": "code",
   "execution_count": null,
   "metadata": {},
   "outputs": [],
   "source": [
    "grdc_meta = pd.read_csv(fn_grdc_meta, index_col=0, encoding = \"ISO-8859-1\")\n",
    "grdc_meta = grdc_meta.rename({'lat': 'lat_org', 'long':'lon_org'}, axis=1)\n",
    "nstations = len(grdc_meta)\n",
    "grdc_meta = grdc_meta[np.logical_and.reduce((grdc_meta['area']>0, grdc_meta['lon_org']<180, grdc_meta['lat_org']<90))] \n",
    "ninvalid = nstations - len(grdc_meta)\n",
    "print('total stations {}; stations with invalid meta data {:d}'.format(nstations, ninvalid))\n",
    "\n",
    "grdc_meta_gdf = gistools.pandas2geopandas(grdc_meta, x_col='lon_org', y_col='lat_org', crs={'init':'epsg:4326'})"
   ]
  },
  {
   "cell_type": "code",
   "execution_count": null,
   "metadata": {},
   "outputs": [],
   "source": [
    "# import matplotlib.colors as mc\n",
    "# from gistools.plot_tools import basemap, plot_choropleth, cmap3, cmap1\n",
    "\n",
    "# fig, axes = basemap(coastlines=True, glob=True)\n",
    "# ax =axes[0]\n",
    "# t = ax.set_title('GRDC stations (n={:d})'.format(len(grdc_meta)))\n",
    "# plot_kwargs = dict(markersize=8, )\n",
    "# plot_choropleth(fig, ax, grdc_meta_gdf.sort_values('area', ascending=True), 'area', \n",
    "#                    clabel='upstream area [km2]', norm=mc.LogNorm,\n",
    "#                    plot_kwargs=plot_kwargs)"
   ]
  },
  {
   "cell_type": "markdown",
   "metadata": {},
   "source": [
    "### 2a) snap - example"
   ]
  },
  {
   "cell_type": "markdown",
   "metadata": {},
   "source": [
    "An example of the procedure for a good fit at *OBIDOS - PORTO, AMAZONAS (3629000)* and a bad fit at *GREAT KEI RIVER (1160684)* are shown below"
   ]
  },
  {
   "cell_type": "code",
   "execution_count": null,
   "metadata": {},
   "outputs": [],
   "source": [
    "from cmftools import snap_gauge, plot_snap, read_gtiff_buf\n",
    "uparea_col='area'\n",
    "max_dist = kwargs['max_dist']\n",
    "\n",
    "gauge_id = 6435060\n",
    "gauge = grdc_meta_gdf.loc[gauge_id, :]\n",
    "gauge_xy = gauge.geometry.coords[:][0]\n",
    "gauge_uparea = gauge[uparea_col]\n",
    "\n",
    "# uparea_2d, transform = read_gtiff_buf(uparea_fn, gauge_xy, buf=max_dist, layer=0)\n",
    "snap, uparea_2d, transform, success = snap_gauge(uparea_fn, gauge_xy, gauge_uparea, **kwargs)\n",
    "fig, _ = plot_snap(dict(snapped=snap['combi']), gauge_id, gauge_xy, gauge_uparea, uparea_2d, transform, **kwargs)\n",
    "\n",
    "# gauge_id = 1160684\n",
    "# gauge = grdc_meta_gdf.loc[gauge_id, :]\n",
    "# gauge_xy = gauge.geometry.coords[:][0]\n",
    "# gauge_uparea = gauge[uparea_col]\n",
    "\n",
    "# snap, uparea_2d, transform, success = snap_gauge(uparea_fn, gauge_xy, gauge_uparea, **kwargs)\n",
    "# fig, _ = plot_snap(dict(snapped=snap['combi']), gauge_id, gauge_xy, gauge_uparea, uparea_2d, transform, **kwargs)"
   ]
  },
  {
   "cell_type": "markdown",
   "metadata": {},
   "source": [
    "### 2b) snap - all"
   ]
  },
  {
   "cell_type": "code",
   "execution_count": null,
   "metadata": {},
   "outputs": [],
   "source": [
    "# snap data and save intermediate result to csv\n",
    "snap_df = snap_stations(grdc_meta_gdf, uparea_fn, fig_dir=None, uparea_col='area', **kwargs)\n",
    "# lookup catmxy\n",
    "snap_df = cmf_index(snap_df, fn_catmxy, fn_lonlat, x_col='lon', y_col='lat')\n",
    "# save to csv\n",
    "snap_df = pd.concat([grdc_meta, snap_df], axis=1)\n",
    "snap_df.to_csv(out_fn)"
   ]
  },
  {
   "cell_type": "code",
   "execution_count": null,
   "metadata": {},
   "outputs": [],
   "source": [
    "snap_df.index.name = 'grdc_id'\n",
    "snap_df = snap_df.drop(columns=['wmo_reg','sub_reg','mix_reg','nat_id','t_start','t_end','t_yrs','r_volume_yr','r_height_yr','proc_tyrs','proc_tmon','f_import','f_im_yr','l_import','l_im_yr','provider_id','ACSYS','statmouth','GEMS','GCOS_GTNH','ltchars','Pristine Basins','GRDC Reference Dataset','AdaptAlp','ArctHycos','EWA','BALTEX'])\n",
    "snap_df.to_csv(out_fn)"
   ]
  },
  {
   "cell_type": "markdown",
   "metadata": {},
   "source": [
    "### 3) analyze results"
   ]
  },
  {
   "cell_type": "markdown",
   "metadata": {},
   "source": [
    "I’ve tried different values for the distance and upstream area weight and selected R = (2 * RD + RA) / 3 to penalize pixels that are further away from the reported location. CDFs of resulting relative errors are shown below. About 3% of the stations does not meet the upstream area criterions."
   ]
  },
  {
   "cell_type": "code",
   "execution_count": null,
   "metadata": {},
   "outputs": [],
   "source": [
    "# fn = join(map_dir, r'20170124_GRDC_Stations_meta_snap_1dist1e+04_2upa5.0e-01.csv')\n",
    "# df_1RD_2RA = pd.read_csv(fn, index_col=0)\n",
    "fn = join(map_dir, r'20170124_GRDC_Stations_meta_v392_snap_2dist1e+04_1upa5.0e-01.csv')\n",
    "df_2RD_1RA = pd.read_csv(fn, index_col=0)\n",
    "# fn = join(map_dir, r'20170124_GRDC_Stations_meta_snap_1dist1e+04_1upa5.0e-01.csv')\n",
    "# df_1RD_1RA = pd.read_csv(fn, index_col=0)"
   ]
  },
  {
   "cell_type": "code",
   "execution_count": null,
   "metadata": {},
   "outputs": [],
   "source": [
    "# top 5 stations with worst relative error.\n",
    "df_2RD_1RA.sort_values('combi_relerr', ascending=False).head()"
   ]
  },
  {
   "cell_type": "code",
   "execution_count": null,
   "metadata": {},
   "outputs": [],
   "source": [
    "snap_gdf = gistools.pandas2geopandas(df_2RD_1RA, x_col='lon', y_col='lat', crs={'init':'epsg:4326'})\n",
    "fig, axes = basemap(coastlines=True, glob=True)\n",
    "ax =axes[0]\n",
    "t = ax.set_title('GRDC stations (n={:d}) - weighted combined rel. error - 2RD + 1RA'.format(len(grdc_meta)))\n",
    "plot_kwargs = dict(markersize=4, vmin=0, vmax=2)\n",
    "plot_choropleth(fig, ax, snap_gdf.sort_values('combi_relerr'), 'combi_relerr', \n",
    "                   clabel='rel errer [-]', plot_kwargs=plot_kwargs, cmap=gistools.cmap4)\n",
    "\n",
    "snap_gdf = gistools.pandas2geopandas(df_1RD_2RA, x_col='lon', y_col='lat', crs={'init':'epsg:4326'})\n",
    "fig, axes = basemap(coastlines=True, glob=True)\n",
    "ax =axes[0]\n",
    "t = ax.set_title('GRDC stations (n={:d}) - weighted combined rel. error - 1RD + 2RA'.format(len(grdc_meta)))\n",
    "plot_kwargs = dict(markersize=4, vmin=0, vmax=2)\n",
    "plot_choropleth(fig, ax, snap_gdf.sort_values('combi_relerr'), 'combi_relerr', \n",
    "                   clabel='rel errer [-]', plot_kwargs=plot_kwargs, cmap=gistools.cmap4)\n",
    "\n",
    "snap_gdf = gistools.pandas2geopandas(df_1RD_1RA, x_col='lon', y_col='lat', crs={'init':'epsg:4326'})\n",
    "fig, axes = basemap(coastlines=True, glob=True)\n",
    "ax =axes[0]\n",
    "t = ax.set_title('GRDC stations (n={:d}) - weighted combined rel. error - 1RD + 1RA'.format(len(grdc_meta)))\n",
    "plot_kwargs = dict(markersize=4, vmin=0, vmax=2)\n",
    "plot_choropleth(fig, ax, snap_gdf.sort_values('combi_relerr'), 'combi_relerr', \n",
    "                   clabel='rel errer [-]', plot_kwargs=plot_kwargs, cmap=gistools.cmap4)"
   ]
  },
  {
   "cell_type": "code",
   "execution_count": null,
   "metadata": {},
   "outputs": [],
   "source": [
    "import statsmodels.api as sm \n",
    "\n",
    "def ecdf(values, bins=None):\n",
    "    values = np.asarray(values)\n",
    "    if bins is None:\n",
    "        x = np.linspace(values.min(), values.max())\n",
    "    else:\n",
    "        x = np.asarray(bins)\n",
    "    y = sm.distributions.ECDF(values)(x)\n",
    "    return x, y"
   ]
  },
  {
   "cell_type": "code",
   "execution_count": null,
   "metadata": {},
   "outputs": [],
   "source": [
    "import matplotlib.pyplot as plt\n",
    "bins = np.arange(0, 1.2, 0.001)\n",
    "pkwargs=dict(linewidth=1.5)\n",
    "\n",
    "fig, (ax1, ax2, ax3) = plt.subplots(1,3, figsize=(14,5))\n",
    "\n",
    "x, y = ecdf(df_1RD_2RA['upa_relerr'].values, bins=bins)\n",
    "print((1-y[x==1])*100)\n",
    "ax1.step(x, y, 'b', label='1RD_2RA', **pkwargs)\n",
    "x, y = ecdf(df_2RD_1RA['upa_relerr'].values, bins=bins)\n",
    "ax1.step(x, y, 'g', label='2RD_1RA', **pkwargs)\n",
    "x, y = ecdf(df_1RD_1RA['upa_relerr'].values, bins=bins)\n",
    "ax1.step(x, y, 'm', label='1RD_1RA', **pkwargs)\n",
    "ax1.axvline(x=1, color='k', linestyle='--', linewidth=1)\n",
    "\n",
    "x, y = ecdf(df_1RD_2RA['dist_relerr'].values, bins=bins)\n",
    "ax2.step(x, y, 'b', label='1RD_2RA', **pkwargs)\n",
    "x, y = ecdf(df_2RD_1RA['dist_relerr'].values, bins=bins)\n",
    "ax2.step(x, y, 'g', label='2RD_1RA', **pkwargs)\n",
    "x, y = ecdf(df_1RD_1RA['dist_relerr'].values, bins=bins)\n",
    "ax2.step(x, y, 'm', label='1RD_1RA', **pkwargs)\n",
    "ax2.axvline(x=1, color='k', linestyle='--', linewidth=1)\n",
    "\n",
    "x, y = ecdf(df_1RD_2RA['combi_relerr'].values, bins=bins)\n",
    "ax3.step(x, y, 'b', label='1RD_2RA', **pkwargs)\n",
    "x, y = ecdf(df_2RD_1RA['combi_relerr'].values, bins=bins)\n",
    "ax3.step(x, y, 'g', label='2RD_1RA', **pkwargs)\n",
    "x, y = ecdf(df_1RD_1RA['combi_relerr'].values, bins=bins)\n",
    "ax3.step(x, y, 'm', label='1RD_1RA', **pkwargs)\n",
    "ax3.axvline(x=1, color='k', linestyle='--', linewidth=1)\n",
    "\n",
    "\n",
    "ax1.set_xlim([0, 1.2])\n",
    "ax1.set_ylim([0, 1])\n",
    "ax1.legend()\n",
    "ax1.set_xlabel('upa rel. error')\n",
    "ax1.set_ylabel('CDF')\n",
    "ax1.set_title('upa rel. error')\n",
    "ax2.set_xlim([0, 1.2])\n",
    "ax2.set_ylim([0, 1])\n",
    "ax2.legend()\n",
    "ax2.set_xlabel('dist rel. error')\n",
    "ax2.set_title('dist rel. error')\n",
    "ax3.set_xlim([0, 1.2])\n",
    "ax3.set_ylim([0, 1])\n",
    "ax3.set_xlabel('comb. rel. error')\n",
    "ax3.set_title('comb. rel. error')\n",
    "ax3.legend()"
   ]
  }
 ],
 "metadata": {
  "kernelspec": {
   "display_name": "Python [default]",
   "language": "python",
   "name": "python3"
  },
  "language_info": {
   "codemirror_mode": {
    "name": "ipython",
    "version": 3
   },
   "file_extension": ".py",
   "mimetype": "text/x-python",
   "name": "python",
   "nbconvert_exporter": "python",
   "pygments_lexer": "ipython3",
   "version": "3.6.6"
  }
 },
 "nbformat": 4,
 "nbformat_minor": 2
}
