{
 "cells": [
  {
   "cell_type": "code",
   "execution_count": null,
   "metadata": {},
   "outputs": [],
   "source": [
    "import xarray as xr\n",
    "from os.path import join"
   ]
  },
  {
   "cell_type": "code",
   "execution_count": null,
   "metadata": {},
   "outputs": [],
   "source": [
    "ddir = r'/home/dirk/experiments/cama/GTSM'"
   ]
  },
  {
   "cell_type": "code",
   "execution_count": null,
   "metadata": {},
   "outputs": [],
   "source": [
    "\n",
    "fn = r'all_fes_data_198_masked.nc'\n",
    "dst = xr.open_mfdataset(join(ddir, fn))"
   ]
  },
  {
   "cell_type": "code",
   "execution_count": null,
   "metadata": {},
   "outputs": [],
   "source": [
    "fn = r'global_model_surgelevel_1980.nc'\n",
    "dss = xr.open_mfdataset(join(ddir, fn))\n",
    "dss"
   ]
  },
  {
   "cell_type": "code",
   "execution_count": null,
   "metadata": {},
   "outputs": [],
   "source": [
    "surge_range = dss.waterlevel.max(dim='time') - dss.waterlevel.min(dim='time')\n",
    "surge_invalid = dss.stations[surge_range == 0].values\n",
    "surge_invalid"
   ]
  },
  {
   "cell_type": "code",
   "execution_count": null,
   "metadata": {},
   "outputs": [],
   "source": [
    "tide_range = dst.tide.max(dim='time') - dst.tide.min(dim='time')\n",
    "tide_invalid = dst.stations[tide_range == 0].values\n",
    "tide_invalid"
   ]
  },
  {
   "cell_type": "code",
   "execution_count": null,
   "metadata": {},
   "outputs": [],
   "source": [
    "import numpy as np\n",
    "invalid_stations = np.unique(np.concatenate([surge_invalid, tide_invalid]))\n",
    "invalid_stations"
   ]
  },
  {
   "cell_type": "code",
   "execution_count": null,
   "metadata": {},
   "outputs": [],
   "source": [
    "import pandas as pd\n",
    "stations = dss.drop(['waterlevel', 'time']).squeeze().to_dataframe()\n",
    "valid_stations = [s for s in stations.index if s not in invalid_stations]\n",
    "stations.loc[valid_stations, :].to_csv(join(ddir, 'gtsm_valid.csv'))\n",
    "stations.loc[invalid_stations, :].to_csv(join(ddir, 'gtsm_invalid.csv'))"
   ]
  },
  {
   "cell_type": "code",
   "execution_count": null,
   "metadata": {},
   "outputs": [],
   "source": [
    "import pandas as pd\n",
    "from os.path import join\n",
    "stations = pd.read_csv(join(ddir, 'gtsm_valid.csv'), index_col=0)"
   ]
  },
  {
   "cell_type": "code",
   "execution_count": null,
   "metadata": {},
   "outputs": [],
   "source": [
    "import geopandas as gp\n",
    "from shapely.geometry import Point\n",
    "from fiona.crs import from_epsg\n",
    "geoms = [Point(x, y) for x, y in zip(stations.loc[:, 'station_x_coordinate'], stations.loc[:, 'station_y_coordinate'])]\n",
    "gdf = gp.GeoDataFrame(stations.loc[:, ['station_id']].copy(), geometry=geoms, crs=from_epsg(4326))\n",
    "gdf.to_file(join(ddir, 'gtsm_valid.geojson'), driver='GeoJSON')\n",
    "gdf.head()"
   ]
  }
 ],
 "metadata": {
  "kernelspec": {
   "display_name": "Python [conda env:py27]",
   "language": "python",
   "name": "conda-env-py27-py"
  },
  "language_info": {
   "codemirror_mode": {
    "name": "ipython",
    "version": 2
   },
   "file_extension": ".py",
   "mimetype": "text/x-python",
   "name": "python",
   "nbconvert_exporter": "python",
   "pygments_lexer": "ipython2",
   "version": "2.7.15"
  }
 },
 "nbformat": 4,
 "nbformat_minor": 2
}
