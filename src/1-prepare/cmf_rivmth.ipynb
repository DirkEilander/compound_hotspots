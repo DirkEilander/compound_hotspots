{
 "cells": [
  {
   "cell_type": "code",
   "execution_count": null,
   "metadata": {},
   "outputs": [],
   "source": [
    "from os.path import join, basename, dirname\n",
    "import numpy as np\n",
    "# local libraries\n",
    "from cmftools import get_outlets, get_catchments"
   ]
  },
  {
   "cell_type": "code",
   "execution_count": null,
   "metadata": {},
   "outputs": [],
   "source": [
    "map_dir = r'/home/dirk/Models/CaMa-Flood_v3.6.2_20140909/map/global_15min'\n",
    "NE_dir = r'/home/dirk/Datasets/NaturalEarth'\n",
    "# I/O\n",
    "fn_nextxy = join(map_dir, \"nextxy.tif\")\n",
    "fn_lonlat = join(map_dir, \"lonlat.tif\")\n",
    "fn_outlets_all = join(map_dir, 'rivmth_all.txt')\n",
    "# sample metadata from\n",
    "names = ['uparea', \"rivwth\"]\n",
    "sample_dict = {name: join(map_dir, \"{}.tif\".format(name)) for name in names}\n",
    "sample_dict[\"dist2coast\"] = join(NE_dir, 'ne_10m_dist2coast_eucl_1min.tif')\n",
    "sample_dict"
   ]
  },
  {
   "cell_type": "code",
   "execution_count": null,
   "metadata": {},
   "outputs": [],
   "source": [
    "# get outlets\n",
    "outlets = get_outlets(fn_nextxy, fn_lonlat, sample_dict=sample_dict, fn_out=fn_outlets_all, res_str='15min')\n",
    "\n",
    "outlets['dist2coast'] = np.floor(outlets['dist2coast'].values)\n",
    "outlets['rivwth'] = np.floor(outlets['rivwth'].values)\n",
    "print(len(outlets))\n",
    "outlets.head()"
   ]
  },
  {
   "cell_type": "code",
   "execution_count": null,
   "metadata": {},
   "outputs": [],
   "source": [
    "# filter\n",
    "min_uparea=1e9 # 1000 km2\n",
    "max_dist=10e3 # 10km\n",
    "fn_outlets = join(map_dir, 'rivmth_upa{:.0e}_dist{:.0e}.txt'.format(min_uparea, max_dist))\n",
    "print(fn_outlets)\n",
    "\n",
    "outlets_select = outlets[np.logical_and(outlets['uparea'].values>min_uparea, outlets['dist2coast'].values<max_dist)]\n",
    "outlets_select.to_csv(fn_outlets)\n",
    "print(len(outlets_select))\n",
    "outlets_select.head()"
   ]
  },
  {
   "cell_type": "code",
   "execution_count": null,
   "metadata": {},
   "outputs": [],
   "source": [
    "# get basins tif\n",
    "fn_catm = fn_outlets.replace('.txt', '_catm.tif')\n",
    "print(fn_catm)\n",
    "catm = get_catchments(fn_outlets, fn_nextxy, fn_catm)\n",
    "\n",
    "%matplotlib inline\n",
    "import matplotlib.pyplot as plt\n",
    "plt.imshow(catm)"
   ]
  }
 ],
 "metadata": {
  "kernelspec": {
   "display_name": "Python [default]",
   "language": "python",
   "name": "python2"
  },
  "language_info": {
   "codemirror_mode": {
    "name": "ipython",
    "version": 2
   },
   "file_extension": ".py",
   "mimetype": "text/x-python",
   "name": "python",
   "nbconvert_exporter": "python",
   "pygments_lexer": "ipython2",
   "version": "2.7.11"
  }
 },
 "nbformat": 4,
 "nbformat_minor": 2
}
