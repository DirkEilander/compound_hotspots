{
 "cells": [
  {
   "cell_type": "code",
   "execution_count": null,
   "metadata": {},
   "outputs": [],
   "source": [
    "import pandas as pd\n",
    "import geopandas as gp\n",
    "import xarray as xr\n",
    "import numpy as np\n",
    "from os.path import join, basename\n",
    "import glob\n",
    "import gistools\n",
    "import rasterio"
   ]
  },
  {
   "cell_type": "code",
   "execution_count": null,
   "metadata": {},
   "outputs": [],
   "source": [
    "map_dir = r'/home/dirk/models/CaMa-Flood_v3.6.2/map/global_15min'\n",
    "gtsm_dir = r'/home/dirk/datasets/GTSM'\n",
    "# I/O\n",
    "min_uparea=1e9 # 1000 km2\n",
    "max_dist=10e3 # 10km\n",
    "fn_outlets = join(map_dir, 'rivmth_upa{:.0e}_dist{:.0e}.txt'.format(min_uparea, max_dist))\n",
    "# fn_gtsm_ts = join(gtsm_dir, 'global_model_waterlevel_1980_masked.nc')\n",
    "fn_gtsm_shp = join(gtsm_dir, 'gtsm_valid.csv')"
   ]
  },
  {
   "cell_type": "code",
   "execution_count": null,
   "metadata": {},
   "outputs": [],
   "source": [
    "# read valid gtsm stations\n",
    "df = pd.read_csv(fn_gtsm_shp)\n",
    "gdf_gtsm = gistools.pandas2geopandas(df, x_col='station_x_coordinate', y_col='station_y_coordinate')\n",
    "gdf_gtsm = gdf_gtsm.rename(columns={'stations': 'idx'})\n",
    "gdf_gtsm.head()"
   ]
  },
  {
   "cell_type": "code",
   "execution_count": null,
   "metadata": {},
   "outputs": [],
   "source": [
    "# read riv mouth points\n",
    "gdf_rivmth = gistools.pandas2geopandas(pd.read_csv(fn_outlets, index_col=0))\n",
    "gdf_rivmth = gdf_rivmth.sort_values(['col_15min', 'row_15min', 'uparea']).reset_index().rename(columns={'id': 'rivmth_idx'})\n",
    "print(len(gdf_rivmth))\n",
    "gdf_rivmth.head()"
   ]
  },
  {
   "cell_type": "code",
   "execution_count": null,
   "metadata": {},
   "outputs": [],
   "source": [
    "# merge based on nearest neighbor\n",
    "from gistools.vector_tools import sjoin_nn\n",
    "\n",
    "gdf_merge = sjoin_nn(gdf_rivmth, gdf_gtsm, max_dist=75e3, prefix='gtsm')\n",
    "gdf_merge = gdf_merge[np.isfinite(gdf_merge['gtsm_idx'])].reset_index().drop(columns=['index', 'gtsm_index']) # delete stations that did not get coupled\n",
    "gdf_merge.index.name = 'couple_id'\n",
    "gdf_merge['gtsm_idx'] = gdf_merge['gtsm_idx'].astype(int)\n",
    "print(len(gdf_merge))\n",
    "# couple every station to one (the largest) riv mouth\n",
    "# gdf_merge = gdf_merge.sort_values(['gtsm_idx', 'uparea']).drop_duplicates('gtsm_idx', keep='last')\n",
    "# print(len(gdf_merge))\n",
    "gdf_merge.head()"
   ]
  },
  {
   "cell_type": "code",
   "execution_count": null,
   "metadata": {},
   "outputs": [],
   "source": [
    "gdf_merge['rivmth_lon'], gdf_merge['rivmth_lat'] = zip(*[g.coords[:][0] for g in gdf_merge.geometry])"
   ]
  },
  {
   "cell_type": "code",
   "execution_count": null,
   "metadata": {},
   "outputs": [],
   "source": [
    "# add egm correction\n",
    "lats, lons = gdf_merge['gtsm_lat'].values, gdf_merge['gtsm_lon'].values\n",
    "fn = r'/home/dirk/datasets/EGM_correctie/EGM96_offset_filled.tif'\n",
    "with rasterio.open(fn) as ds:\n",
    "    r, c = ds.index(lons,lats)\n",
    "    r, c = np.asarray(r), np.asarray(c)\n",
    "    gdf_merge['gtsm_egm_offset'] = ds.read(1)[r, c]"
   ]
  },
  {
   "cell_type": "markdown",
   "metadata": {},
   "source": [
    "We save the coupled stations (1:n) to a gis and csv file. The csv file is used to create a nc files of the selected gtsm stations (of which some are duplicates). The maks_resmaple_fes and mask_resample_gtsm create tide, surge and total waterlevel nc files that are use to force CMF"
   ]
  },
  {
   "cell_type": "code",
   "execution_count": null,
   "metadata": {},
   "outputs": [],
   "source": [
    "import os\n",
    "fn_out = join(gtsm_dir, 'cmf_gtsm_75km.geojson')\n",
    "if os.path.isfile(fn_out):\n",
    "    os.unlink(fn_out)\n",
    "from shapely.geometry import LineString\n",
    "ls = [LineString(p.coords[:] + [(lon, lat)]) for (p, lon, lat) in \n",
    "      zip(gdf_merge.geometry, gdf_merge.gtsm_lon, gdf_merge.gtsm_lat)]\n",
    "gdf_merge['lon'], gdf_merge['lat'] = zip(*[geom.coords[:][0] for geom in gdf_merge.geometry])\n",
    "gdf_merge['geometry'] = ls\n",
    "gdf_merge.to_file(fn_out, driver='GeoJSON')\n",
    "# gdf_merge.head()"
   ]
  },
  {
   "cell_type": "code",
   "execution_count": null,
   "metadata": {},
   "outputs": [],
   "source": [
    "rm_dict = {'col_15min': 'cmf_col_15min', 'row_15min': 'cmf_row_15min', 'lat_15min': 'cmf_lat_15min', 'lon_15min': 'cmf_lon_15min', 'index': 'cmf_rivmth_id', 'gtsm_dist':'dist'}\n",
    "gdf_out = gdf_merge.rename(columns=rm_dict).drop(columns='geometry')\n",
    "gdf_out.to_csv(fn_out.replace('.geojson', '.csv'))"
   ]
  },
  {
   "cell_type": "code",
   "execution_count": null,
   "metadata": {},
   "outputs": [],
   "source": [
    "rivmth_not_coupled = np.array([i for i in gdf_rivmth.rivmth_idx.values if i not in gdf_merge.rivmth_idx.values])\n",
    "gdf_rivmth_not = gdf_rivmth.set_index('rivmth_idx').loc[rivmth_not_coupled, :]\n",
    "gdf_rivmth_not.to_file(fn_out.replace('.geojson', '_notcoupled.geojson'), driver='GeoJSON')"
   ]
  },
  {
   "cell_type": "code",
   "execution_count": null,
   "metadata": {},
   "outputs": [],
   "source": [
    "len(rivmth_not_coupled), len(gdf_rivmth), len(gdf_merge)"
   ]
  },
  {
   "cell_type": "code",
   "execution_count": null,
   "metadata": {},
   "outputs": [],
   "source": [
    "# %matplotlib notebook\n",
    "# gdf_merge['gtsm_dist'].plot(kind='hist')"
   ]
  },
  {
   "cell_type": "code",
   "execution_count": null,
   "metadata": {},
   "outputs": [],
   "source": [
    "%matplotlib notebook\n",
    "import matplotlib.pyplot as plt\n",
    "from gistools.plot_tools import basemap\n",
    "\n",
    "fig, ax = basemap(figsize=(8, 4), gridlines=True)\n",
    "ax=ax[0]\n",
    "ax.coastlines()\n",
    "# gdf_rivmth.plot(ax=ax, column='uparea', cmap='Blues', alpha=1, legend=True, vmin=1e8, vmax=1e12, s=20)\n",
    "gdf_rivmth.set_index('rivmth_idx').loc[rivmth_not_coupled, :].plot(ax=ax, c='red') #column='uparea', cmap='Oranges', alpha=1, legend=True, vmin=1e8, vmax=1e12, s=15)"
   ]
  },
  {
   "cell_type": "code",
   "execution_count": null,
   "metadata": {},
   "outputs": [],
   "source": [
    "%matplotlib notebook\n",
    "import matplotlib.pyplot as plt\n",
    "from gistools.plot_tools import basemap\n",
    "\n",
    "fig, ax = basemap(figsize=(8, 4), gridlines=True)\n",
    "ax=ax[0]\n",
    "ax.coastlines()\n",
    "gdf_merge.plot(ax=ax, color='c', linewidth=3)\n",
    "gdf_rivmth.set_index('rivmth_idx').loc[gdf_merge.rivmth_idx, :].plot(ax=ax, color='b')\n",
    "gdf_gtsm.set_index('idx').loc[gdf_merge.gtsm_idx, :].plot(ax=ax, color='r')"
   ]
  },
  {
   "cell_type": "markdown",
   "metadata": {},
   "source": [
    "write CMF input reference coupling file which is ordered the same way as the nc file. Because of the 1:n  (rivmouth to GTSM) coupling an nc files with duplicate timeseries for surge, tide and waterlevel have te be created"
   ]
  },
  {
   "cell_type": "code",
   "execution_count": null,
   "metadata": {},
   "outputs": [],
   "source": [
    "import rasterio\n",
    "# save binary output data\n",
    "ref_bin_fn  = join(map_dir, 'cmf_gtsm_75km.bin')\n",
    "tif_fn = join(map_dir, 'cmf_gtsm_75km.tif')\n",
    "fn_lonlat = join(map_dir, \"lonlat.tif\")\n",
    "\n",
    "ref = np.array([])\n",
    "with rasterio.open(fn_lonlat, 'r') as src:\n",
    "    shape = src.shape\n",
    "    profile = src.profile.copy()\n",
    "    profile['count'] = 1\n",
    "\n",
    "refmap = np.ones(shape, dtype=profile['dtype']) * -9999\n",
    "for idx in gdf_merge.index:\n",
    "    cama_iy, cama_ix = gdf_merge.loc[idx, 'row_15min'], gdf_merge.loc[idx, 'col_15min']\n",
    "    ref = np.append(ref, cama_ix + 1) # fortran index\n",
    "    ref = np.append(ref, cama_iy + 1) # fortran index\n",
    "    refmap[cama_iy, cama_ix] = gdf_merge.loc[idx, 'gtsm_idx']\n",
    "ref = ref.reshape(-1,2).astype(np.int32)\n",
    "ref.tofile(ref_bin_fn)\n",
    "\n",
    "# save refmap to geotiff\n",
    "with rasterio.open(tif_fn, 'w', **profile) as dst:\n",
    "    dst.write(refmap, 1)\n",
    "\n",
    "ref"
   ]
  },
  {
   "cell_type": "code",
   "execution_count": null,
   "metadata": {},
   "outputs": [],
   "source": [
    "# check Hiroaki's coupling matrix\n",
    "# ref_bin_fn = join(map_dir, 'ref_global.bin')\n",
    "# tif_fn = join(map_dir, 'ref_global.tif')\n",
    "# ref = np.fromfile(ref_bin_fn, dtype=np.int32).reshape(-1,2)\n",
    "\n",
    "# refmap = np.ones(shape, dtype=profile['dtype']) * -9999\n",
    "# for idx, (cama_ix, cama_iy) in enumerate(ref):\n",
    "#     if cama_ix == -9999: continue\n",
    "#     refmap[cama_iy-1, cama_ix-1] = idx\n",
    "\n",
    "# # save refmap to geotiff\n",
    "# with rasterio.open(tif_fn, 'w', **profile) as dst:\n",
    "#     dst.write(refmap, 1)\n",
    "    \n",
    "# np.sum(ref[:, 0]!=-9999)"
   ]
  }
 ],
 "metadata": {
  "kernelspec": {
   "display_name": "Python 3",
   "language": "python",
   "name": "python3"
  },
  "language_info": {
   "codemirror_mode": {
    "name": "ipython",
    "version": 3
   },
   "file_extension": ".py",
   "mimetype": "text/x-python",
   "name": "python",
   "nbconvert_exporter": "python",
   "pygments_lexer": "ipython3",
   "version": "3.7.3"
  }
 },
 "nbformat": 4,
 "nbformat_minor": 2
}
