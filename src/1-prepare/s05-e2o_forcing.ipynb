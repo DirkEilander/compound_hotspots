{
 "cells": [
  {
   "cell_type": "markdown",
   "metadata": {},
   "source": [
    "prepare yearly forcing files based on eartH2Observe data"
   ]
  },
  {
   "cell_type": "code",
   "execution_count": null,
   "metadata": {},
   "outputs": [],
   "source": [
    "import xarray as xr\n",
    "import pandas as pd\n",
    "import os, sys\n",
    "import numpy as np\n",
    "from os.path import join, dirname, realpath, basename\n",
    "from datetime import datetime\n",
    "import pdb\n",
    "import glob\n",
    "\n",
    "# multiprocessing libraries\n",
    "import dask"
   ]
  },
  {
   "cell_type": "code",
   "execution_count": null,
   "metadata": {},
   "outputs": [],
   "source": [
    "ddir = r'/home/dirk/datasets/E2O'\n",
    "name = 'metfr'\n",
    "var_name=\"Runoff\"\n",
    "options = dict(scale = -86400, xdim='lon', ydim='lat', tdim='time')\n",
    "fns = glob.glob(join(ddir, name, 'org', f'e2o_{name}_wrr2_glob15_day_{var_name}_*-*.nc'))\n",
    "fns"
   ]
  },
  {
   "cell_type": "code",
   "execution_count": null,
   "metadata": {},
   "outputs": [],
   "source": [
    "import matplotlib.pyplot as plt\n",
    "cmap = plt.cm.Blues\n",
    "cmap.set_under('red')"
   ]
  },
  {
   "cell_type": "code",
   "execution_count": null,
   "metadata": {},
   "outputs": [],
   "source": [
    "@dask.delayed\n",
    "def main(fn, options, name, ddir, var_name):\n",
    "# for fn in fns:\n",
    "    tdim, xdim, ydim = options['tdim'], options['xdim'], options['ydim']\n",
    "    scale = options['scale'] # to 'mm.day-1'\n",
    "    units = 'mm day-1'\n",
    "\n",
    "    with xr.open_dataset(fn, chunks={tdim: 30, xdim:-1, ydim:-1}) as ds:\n",
    "        ds = ds.rename({xdim: 'lon', ydim: 'lat', tdim:'time'})\n",
    "        yrs = np.unique(ds.time.dt.year)\n",
    "        for yr in yrs:\n",
    "            fn_out = f'e2o_{name}_wrr2_glob15_day_{var_name}_{yr}.nc'\n",
    "            print(fn_out)\n",
    "\n",
    "            ds_yr = ds.sel(time = slice(f'01-01-{yr:04d}', f'31-12-{yr:04d}')).load()\n",
    "            # fix data\n",
    "            # runoff is positive\n",
    "            xvar = ds_yr[var_name] * scale \n",
    "\n",
    "            # make figure\n",
    "#             fig = plt.figure()\n",
    "            xvar_seas = xvar.groupby('time.season').mean('time')\n",
    "            xvar_seas.plot(x='lon', y='lat', col='season', vmin=0, vmax=10, col_wrap=2, cmap=cmap, figsize=(14,8))\n",
    "            fig = plt.gcf()\n",
    "            fig.suptitle(f'{name} - {yr}', y=1.01, fontsize='large')\n",
    "            plt.savefig(join(ddir, name, 'fig', fn_out.replace('.nc','.png')), bbox_inches='tight', dpi = 320)\n",
    "            plt.close('all')\n",
    "\n",
    "            # remove negative values\n",
    "#             xvar = xr.ufuncs.maximum(xvar, 0)\n",
    "            # write output\n",
    "            xvar.name = var_name\n",
    "            xvar.attrs.update(ds_yr[var_name].attrs)\n",
    "            xvar.attrs.update(units=units) # overwrite unit.\n",
    "            ds_out = xvar.to_dataset()\n",
    "            ds_out.attrs.update(ds_yr.attrs)\n",
    "            encoding= {var_name: {'zlib': True}}\n",
    "\n",
    "            ds_out.to_netcdf(join(ddir, name, fn_out), encoding=encoding)"
   ]
  },
  {
   "cell_type": "code",
   "execution_count": null,
   "metadata": {},
   "outputs": [],
   "source": [
    "tasks = [main(fn, options, name, ddir, var_name) for fn in fns]\n",
    "dask.compute(*tasks, scheduler='processes', num_workers=3)"
   ]
  }
 ],
 "metadata": {
  "kernelspec": {
   "display_name": "Python 3",
   "language": "python",
   "name": "python3"
  },
  "language_info": {
   "codemirror_mode": {
    "name": "ipython",
    "version": 3
   },
   "file_extension": ".py",
   "mimetype": "text/x-python",
   "name": "python",
   "nbconvert_exporter": "python",
   "pygments_lexer": "ipython3",
   "version": "3.7.6"
  }
 },
 "nbformat": 4,
 "nbformat_minor": 2
}
