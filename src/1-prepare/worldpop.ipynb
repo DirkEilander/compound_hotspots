{
 "cells": [
  {
   "cell_type": "code",
   "execution_count": 1,
   "metadata": {},
   "outputs": [],
   "source": [
    "import rasterio\n",
    "from rasterio.transform import array_bounds, from_bounds, from_origin\n",
    "from rasterio.warp import Resampling\n",
    "from os.path import join, isfile\n",
    "import numpy as np"
   ]
  },
  {
   "cell_type": "code",
   "execution_count": 2,
   "metadata": {},
   "outputs": [],
   "source": [
    "from pyflwdir.gis_utils import reggrid_area, affine_to_coords"
   ]
  },
  {
   "cell_type": "code",
   "execution_count": 3,
   "metadata": {},
   "outputs": [
    {
     "name": "stdout",
     "output_type": "stream",
     "text": [
      "{'driver': 'GTiff', 'dtype': 'float32', 'nodata': -3.4028234663852886e+38, 'width': 43200, 'height': 18720, 'count': 1, 'crs': CRS.from_epsg(4326), 'transform': Affine(0.0083333333, 0.0, -180.001249265,\n",
      "       0.0, -0.0083333333, 84.00791653201003), 'blockxsize': 256, 'blockysize': 256, 'tiled': True, 'compress': 'lzw', 'interleave': 'band'}\n"
     ]
    }
   ],
   "source": [
    "# IN\n",
    "wp_fn = r'/home/dirk/datasets/WorldPop/ppp_2010_1km_Aggregated.tif'\n",
    "with rasterio.open(wp_fn, 'r') as src:\n",
    "    print(src.profile)"
   ]
  },
  {
   "cell_type": "code",
   "execution_count": 4,
   "metadata": {},
   "outputs": [
    {
     "data": {
      "text/plain": [
       "(0.006535910021199243, 0.030392147291258276)"
      ]
     },
     "execution_count": 4,
     "metadata": {},
     "output_type": "execute_result"
    }
   ],
   "source": [
    "# src_tot_pop = 0\n",
    "# with rasterio.open(wp_fn, 'r') as src:\n",
    "#     for ji, wdw in src.block_windows(1):\n",
    "#         pop_30sec = src.read(1, window=wdw)\n",
    "#         src_tot_pop += np.nansum(pop_30sec[pop_30sec!=src.nodata])\n",
    "# src_tot_pop\n",
    "src_tot_pop = 6812530928.509598\n",
    "dst_tot_pop_nearest = 6810460454.075542\n",
    "dst_tot_pop_bilinear = 6812976189.401252\n",
    "err_bil = np.abs(1-dst_tot_pop_bilinear/src_tot_pop)*100  \n",
    "err_nn = np.abs(1-dst_tot_pop_nearest/src_tot_pop)*100\n",
    "err_bil, err_nn"
   ]
  },
  {
   "cell_type": "code",
   "execution_count": 5,
   "metadata": {},
   "outputs": [
    {
     "name": "stdout",
     "output_type": "stream",
     "text": [
      "6810460454.075542\n",
      "0.9996960785270874\n"
     ]
    }
   ],
   "source": [
    "# out\n",
    "xmin, ymin, xmax, ymax = -180, -72, 180, 84\n",
    "xsize, ysize = 0.005, 0.005\n",
    "blockxsize, blockysize = 400, 400\n",
    "wp2_fn = r'/home/dirk/datasets/WorldPop/ppp_2010_18arcsec_Aggregated_nearest.tif'\n",
    "\n",
    "tot_pop = 0\n",
    "# ppp to density \n",
    "wpd_fn = wp_fn.replace('.tif', '_density.tif')\n",
    "with rasterio.open(wp_fn, 'r') as src:\n",
    "    prof = src.profile.copy()\n",
    "    prof.update(\n",
    "        transform = from_origin(xmin, ymax, xsize, ysize),\n",
    "        width = int((xmax-xmin) / xsize),\n",
    "        height = int((ymax-ymin) / xsize),\n",
    "        blockxsize = blockxsize,\n",
    "        blockysize = blockysize,\n",
    "    )\n",
    "    with rasterio.open(wp2_fn, 'w', **prof) as dst:\n",
    "        for ji, dst_wdw in dst.block_windows(1):\n",
    "#             if not np.all(ji == (10, 10)): continue\n",
    "            \n",
    "            # get window properties dst (18sec)\n",
    "            dst_transform = dst.window_transform(dst_wdw)\n",
    "            dst_shape = dst_wdw.height, dst_wdw.width\n",
    "            dst_bounds = array_bounds(*dst_shape, transform=dst_transform)\n",
    "            \n",
    "            # get src window  (30sec)\n",
    "            src_wdw = rasterio.windows.round_window_to_full_blocks(\n",
    "                window=rasterio.windows.from_bounds(*dst_bounds, transform=src.transform), \n",
    "                block_shapes=src.block_shapes\n",
    "            )\n",
    "\n",
    "            # read pop\n",
    "            pop_30sec = src.read(1, window=src_wdw)\n",
    "            \n",
    "            # convert to density\n",
    "            src_transform = src.window_transform(src_wdw)\n",
    "            src_bounds = array_bounds(*pop_30sec.shape, transform=src_transform)\n",
    "            src_lons, src_lats = affine_to_coords(src_transform, pop_30sec.shape[1], pop_30sec.shape[0])\n",
    "            area_30sec = reggrid_area(src_lats, src_lons) #km\n",
    "            dens_30sec = np.where(pop_30sec != src.nodata, pop_30sec / area_30sec, src.nodata)\n",
    "            assert np.all(np.isfinite(dens_30sec))\n",
    "            \n",
    "            # resample\n",
    "            dens_18sec = np.ones(dst_shape)*dst.nodata\n",
    "            rasterio.warp.reproject(\n",
    "                source=dens_30sec,\n",
    "                destination=dens_18sec,\n",
    "                resampling=Resampling.nearest,\n",
    "                src_transform=src_transform,\n",
    "                src_crs=src.crs,\n",
    "                src_nodata=src.nodata,\n",
    "                dst_transform=dst_transform,\n",
    "                dst_height=dst_wdw.height, \n",
    "                dst_width=dst_wdw.width,\n",
    "                dst_crs=dst.crs,\n",
    "                dst_nodata=dst.nodata\n",
    "            )\n",
    "            assert np.all(np.isfinite(dens_18sec))\n",
    "            # to pop per pixel\n",
    "            dst_lons, dst_lats = affine_to_coords(dst_transform, dst_wdw.width, dst_wdw.height)\n",
    "            area_18sec = reggrid_area(dst_lats, dst_lons)\n",
    "            pop_18sec = np.where(dens_18sec!=dst.nodata, dens_18sec * area_18sec, dst.nodata)\n",
    "            tot_pop += pop_18sec[pop_18sec!=src.nodata].sum()\n",
    "            # write\n",
    "            continue\n",
    "            dst.write(pop_18sec.astype(np.float32), window=dst_wdw, indexes=1)\n",
    "print(tot_pop)\n",
    "print(tot_pop/src_tot_pop)"
   ]
  },
  {
   "cell_type": "markdown",
   "metadata": {},
   "source": [
    "# write to binary files for fortran impact routine"
   ]
  },
  {
   "cell_type": "code",
   "execution_count": null,
   "metadata": {},
   "outputs": [],
   "source": [
    "import pandas as pd\n",
    "mdir = r'/home/dirk/models/CaMa-Flood_v3.6.2/map/global_15min'\n",
    "fn_regions = join(mdir,'hires', 'location.txt')\n",
    "regions = pd.read_csv(fn_regions, delim_whitespace=True, index_col=0).T \\\n",
    "            .set_index('area').astype(float).to_dict(orient='index')"
   ]
  },
  {
   "cell_type": "code",
   "execution_count": null,
   "metadata": {},
   "outputs": [],
   "source": [
    "import xarray as xr \n",
    "\n",
    "wp2_fn = r'/home/dirk/datasets/WorldPop/ppp_2010_18arcsec_Aggregated_bilinear.tif'\n",
    "\n",
    "for area in regions:\n",
    "    fn = join(mdir, 'hires', f'{area}.catmxy.tif')\n",
    "    fn_out_bin = join(mdir, 'hires', f'{area}.worldpop')\n",
    "    if isfile(fn_out_bin): continue\n",
    "    print(area)\n",
    "    with rasterio.open(fn, 'r') as like:\n",
    "        bounds = like.bounds\n",
    "        # xarray to deal with si2 which passes -180 line\n",
    "        ds = xr.open_rasterio(wp2_fn, chunks={'x':400, 'y':400}).drop('band').squeeze()\n",
    "        mv = ds.attrs['nodatavals'][0]\n",
    "        w, s, e, n = bounds\n",
    "        if e > 180 or w < -180:\n",
    "            lon_org = np.copy(ds['x'].values)\n",
    "            if e > 180:\n",
    "                ds['x'] = xr.Variable('x', np.where(lon_org < 0, lon_org + 360, lon_org))\n",
    "            else:\n",
    "                ds['x'] = xr.Variable('x', np.where(lon_org > 0, lon_org - 360, lon_org))\n",
    "            ds = ds.sortby('x')\n",
    "        pop = ds.sel({'x':slice(w, e), 'y':slice(n, s)}).values\n",
    "        ds.close()\n",
    "        assert np.all(pop.shape == like.shape)\n",
    "        np.where(pop!=mv, pop, 0).astype(np.float32).tofile(fn_out_bin) # mv zeros"
   ]
  }
 ],
 "metadata": {
  "kernelspec": {
   "display_name": "Python 3",
   "language": "python",
   "name": "python3"
  },
  "language_info": {
   "codemirror_mode": {
    "name": "ipython",
    "version": 3
   },
   "file_extension": ".py",
   "mimetype": "text/x-python",
   "name": "python",
   "nbconvert_exporter": "python",
   "pygments_lexer": "ipython3",
   "version": "3.7.3"
  }
 },
 "nbformat": 4,
 "nbformat_minor": 2
}
